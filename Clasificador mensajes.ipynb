{
 "cells": [
  {
   "cell_type": "code",
   "execution_count": 1,
   "id": "6a92cf31",
   "metadata": {},
   "outputs": [],
   "source": [
    "import telebot #pip install pyTelegramBotAPI\n",
    "from datetime import datetime, timezone, timedelta\n",
    "import mysql.connector #pip install mysql.connector\n",
    "import pytz\n",
    "cordoba_tz = pytz.timezone('America/Argentina/Cordoba') # Definir zona horaria\n",
    "from sentiment_analysis_spanish import sentiment_analysis"
   ]
  },
  {
   "cell_type": "code",
   "execution_count": 2,
   "id": "e21ad26d",
   "metadata": {},
   "outputs": [],
   "source": [
    "# Conectarse a la base de datos\n",
    "def load_message_db(id_mensaje, id_chat, texto, usuario, fecha_hora, clasificacion):\n",
    "    # crear conector\n",
    "    mydb = mysql.connector.connect(\n",
    "        host=\"db-interop-gestion-instance-1.crssqp6kq2v3.us-east-1.rds.amazonaws.com\",\n",
    "        user=\"admin\",\n",
    "        password=\"EPXf2NVXzYi7\",\n",
    "        database=\"telegram\"\n",
    "    )\n",
    "    # Crear un cursor para ejecutar consultas\n",
    "    cursor = mydb.cursor()\n",
    "    # Hacer insert\n",
    "    sql = '''INSERT INTO mensajes_texto \n",
    "    (id_mensaje, id_chat, texto, usuario, fecha_hora, clasificacion) \n",
    "    VALUES (%s, %s, %s, %s, %s, %s)'''\n",
    "    # Tupla de valores para la consulta\n",
    "    values = (id_mensaje, id_chat, texto, usuario, fecha_hora, clasificacion)\n",
    "    # Ejecutar la consulta con los valores como parámetros\n",
    "    cursor.execute(sql, values)\n",
    "    mydb.commit()\n",
    "    # Cerrar conexión\n",
    "    cursor.close()\n",
    "    mydb.close()"
   ]
  },
  {
   "cell_type": "code",
   "execution_count": 3,
   "id": "6e4dea85",
   "metadata": {},
   "outputs": [
    {
     "name": "stderr",
     "output_type": "stream",
     "text": [
      "/home/usuario/anaconda3/lib/python3.11/site-packages/sklearn/base.py:347: InconsistentVersionWarning: Trying to unpickle estimator CountVectorizer from version 0.23.2 when using version 1.3.0. This might lead to breaking code or invalid results. Use at your own risk. For more info please refer to:\n",
      "https://scikit-learn.org/stable/model_persistence.html#security-maintainability-limitations\n",
      "  warnings.warn(\n",
      "/home/usuario/anaconda3/lib/python3.11/site-packages/sklearn/base.py:347: InconsistentVersionWarning: Trying to unpickle estimator MultinomialNB from version 0.23.2 when using version 1.3.0. This might lead to breaking code or invalid results. Use at your own risk. For more info please refer to:\n",
      "https://scikit-learn.org/stable/model_persistence.html#security-maintainability-limitations\n",
      "  warnings.warn(\n"
     ]
    }
   ],
   "source": [
    "# Crea clasificador\n",
    "sentiment = sentiment_analysis.SentimentAnalysisSpanish()"
   ]
  },
  {
   "cell_type": "code",
   "execution_count": 4,
   "id": "c2e66636",
   "metadata": {},
   "outputs": [],
   "source": [
    "def analize_text(texto):\n",
    "    analisis = sentiment.sentiment(texto)\n",
    "    analisis = 1 - analisis\n",
    "    clasif = \"neutro\"\n",
    "    if(analisis >= 0.7):\n",
    "        clasif = \"negativo\"\n",
    "    if(analisis <= 0.3):\n",
    "        clasif = \"positivo\"\n",
    "    return clasif"
   ]
  },
  {
   "cell_type": "code",
   "execution_count": 5,
   "id": "517bfe6f",
   "metadata": {},
   "outputs": [],
   "source": [
    "# Crea la instancia del bot\n",
    "bot_token = '6794338457:AAEKvwMr7Ql6PrDVBYrhMHFoWIKRHtHzJaU'\n",
    "bot = telebot.TeleBot(bot_token)"
   ]
  },
  {
   "cell_type": "code",
   "execution_count": 6,
   "id": "d301ba03",
   "metadata": {},
   "outputs": [],
   "source": [
    "@bot.message_handler(commands=['start'])\n",
    "def handle_start(message):\n",
    "    bot.reply_to(message, \"¡Hola! Bienvenido al bot de pruebas.\")"
   ]
  },
  {
   "cell_type": "code",
   "execution_count": 7,
   "id": "9ed9c768",
   "metadata": {},
   "outputs": [],
   "source": [
    "# Manejador de mensajes\n",
    "@bot.message_handler(func=lambda message: True)\n",
    "def handle_messages(message):\n",
    "    # Extraer id, grupo, texto, usuario y fecha\n",
    "    message_id = message.message_id\n",
    "    chat_id = message.chat.id \n",
    "    text = message.text\n",
    "    fecha_hora_actual = datetime.now(cordoba_tz)\n",
    "    date = fecha_hora_actual.strftime('%Y-%m-%d %H:%M:%S')\n",
    "    user = message.from_user\n",
    "    username = user.username\n",
    "    # Verificar si el nombre de usuario está presente\n",
    "    if username:\n",
    "        user_info = username\n",
    "    else:\n",
    "        first_name = user.first_name\n",
    "        last_name = user.last_name if user.last_name else \"\"\n",
    "        user_info = f\"{first_name}{last_name}\" if (first_name or last_name) else \"Sin Nombre\"\n",
    "    # Clasificar mensaje\n",
    "    clasificacion = analize_text(text)\n",
    "    load_message_db(message_id, chat_id, text, user_info, date, clasificacion)"
   ]
  },
  {
   "cell_type": "code",
   "execution_count": null,
   "id": "9982a8e8",
   "metadata": {},
   "outputs": [],
   "source": [
    "# Inicia el bot\n",
    "bot.polling(none_stop=True)"
   ]
  }
 ],
 "metadata": {
  "kernelspec": {
   "display_name": "Python 3 (ipykernel)",
   "language": "python",
   "name": "python3"
  },
  "language_info": {
   "codemirror_mode": {
    "name": "ipython",
    "version": 3
   },
   "file_extension": ".py",
   "mimetype": "text/x-python",
   "name": "python",
   "nbconvert_exporter": "python",
   "pygments_lexer": "ipython3",
   "version": "3.11.5"
  }
 },
 "nbformat": 4,
 "nbformat_minor": 5
}
