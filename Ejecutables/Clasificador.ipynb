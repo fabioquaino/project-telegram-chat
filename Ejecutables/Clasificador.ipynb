{
 "cells": [
  {
   "cell_type": "code",
   "execution_count": 1,
   "id": "6330f03a",
   "metadata": {},
   "outputs": [],
   "source": [
    "# Instalar librerias\n",
    "#!pip install pyTelegramBotAPI\n",
    "#!pip install mysql.connector\n",
    "#!pip install configparser\n",
    "#!pip install sentiment-analysis-spanish\n",
    "#!pip install keras tensorflow"
   ]
  },
  {
   "cell_type": "code",
   "execution_count": 2,
   "id": "6a92cf31",
   "metadata": {},
   "outputs": [],
   "source": [
    "# Importar librerias necesarias\n",
    "import telebot \n",
    "import mysql.connector \n",
    "import configparser\n",
    "import pytz\n",
    "from datetime import datetime, timezone, timedelta\n",
    "from sentiment_analysis_spanish import sentiment_analysis "
   ]
  },
  {
   "cell_type": "code",
   "execution_count": 3,
   "id": "9e6382c7",
   "metadata": {},
   "outputs": [],
   "source": [
    "# Crea un objeto ConfigParser y lee el archivo conexiones.properties\n",
    "config = configparser.ConfigParser()\n",
    "config.read('Local/conexiones.properties')\n",
    "# Accede a los valores de contexto\n",
    "TELEGRAM_TOKEN = config.get('PRUEBA', 'TELEGRAM_TOKEN')\n",
    "TELEGRAM_BOT_NAME = config.get('PRUEBA', 'TELEGRAM_BOT_NAME')\n",
    "botname = TELEGRAM_BOT_NAME\n",
    "DB_HOST = config.get('PRUEBA', 'DB_HOST')\n",
    "DB_USER = config.get('PRUEBA', 'DB_USER')\n",
    "DB_PASS = config.get('PRUEBA', 'DB_PASS')\n",
    "DB_NAME = config.get('PRUEBA', 'DB_NAME')\n",
    "TIME_ZONE = config.get('PRUEBA', 'TIME_ZONE')\n",
    "tz = pytz.timezone(TIME_ZONE) # Definir zona horaria"
   ]
  },
  {
   "cell_type": "code",
   "execution_count": 4,
   "id": "e21ad26d",
   "metadata": {},
   "outputs": [],
   "source": [
    "# Conectarse a la base de datos\n",
    "def load_message_db(id_mensaje, id_chat, texto, usuario, fecha_hora, clasificacion):\n",
    "    # crear conector\n",
    "    mydb = mysql.connector.connect(\n",
    "        host=DB_HOST,\n",
    "        user=DB_USER,\n",
    "        password=DB_PASS,\n",
    "        database=DB_NAME\n",
    "    )\n",
    "    # Crear un cursor para ejecutar consultas\n",
    "    cursor = mydb.cursor()\n",
    "    # Hacer insert\n",
    "    sql = '''INSERT INTO mensajes_texto \n",
    "    (id_mensaje, id_chat, texto, usuario, fecha_hora, clasificacion, bot_proyecto) \n",
    "    VALUES (%s, %s, %s, %s, %s, %s, %s)'''\n",
    "    # Tupla de valores para la consulta\n",
    "    values = (id_mensaje, id_chat, texto, usuario, fecha_hora, clasificacion, botname)\n",
    "    # Ejecutar la consulta con los valores como parámetros\n",
    "    cursor.execute(sql, values)\n",
    "    mydb.commit()\n",
    "    # Cerrar conexión\n",
    "    cursor.close()\n",
    "    mydb.close()"
   ]
  },
  {
   "cell_type": "code",
   "execution_count": 5,
   "id": "6e4dea85",
   "metadata": {},
   "outputs": [
    {
     "name": "stderr",
     "output_type": "stream",
     "text": [
      "/home/usuario/anaconda3/lib/python3.11/site-packages/sklearn/base.py:347: InconsistentVersionWarning: Trying to unpickle estimator CountVectorizer from version 0.23.2 when using version 1.3.0. This might lead to breaking code or invalid results. Use at your own risk. For more info please refer to:\n",
      "https://scikit-learn.org/stable/model_persistence.html#security-maintainability-limitations\n",
      "  warnings.warn(\n",
      "/home/usuario/anaconda3/lib/python3.11/site-packages/sklearn/base.py:347: InconsistentVersionWarning: Trying to unpickle estimator MultinomialNB from version 0.23.2 when using version 1.3.0. This might lead to breaking code or invalid results. Use at your own risk. For more info please refer to:\n",
      "https://scikit-learn.org/stable/model_persistence.html#security-maintainability-limitations\n",
      "  warnings.warn(\n"
     ]
    }
   ],
   "source": [
    "# Crea clasificador\n",
    "sentiment = sentiment_analysis.SentimentAnalysisSpanish()"
   ]
  },
  {
   "cell_type": "code",
   "execution_count": 6,
   "id": "c2e66636",
   "metadata": {},
   "outputs": [],
   "source": [
    "def analize_text(texto):\n",
    "    texto = texto.strip()\n",
    "    if len(texto) < 5:\n",
    "        return 0\n",
    "    analisis = sentiment.sentiment(texto)\n",
    "    analisis = 1 - analisis\n",
    "    analisis = float(analisis)\n",
    "    return analisis"
   ]
  },
  {
   "cell_type": "code",
   "execution_count": 7,
   "id": "517bfe6f",
   "metadata": {},
   "outputs": [],
   "source": [
    "# Crea la instancia del bot\n",
    "bot_token = TELEGRAM_TOKEN\n",
    "bot = telebot.TeleBot(bot_token)"
   ]
  },
  {
   "cell_type": "code",
   "execution_count": 8,
   "id": "d301ba03",
   "metadata": {},
   "outputs": [],
   "source": [
    "@bot.message_handler(commands=['start'])\n",
    "def handle_start(message):\n",
    "    bot.reply_to(message, \"¡Hola! Bienvenido al bot de pruebas.\")"
   ]
  },
  {
   "cell_type": "code",
   "execution_count": 9,
   "id": "9ed9c768",
   "metadata": {},
   "outputs": [],
   "source": [
    "# Manejador de mensajes\n",
    "@bot.message_handler(func=lambda message: True)\n",
    "def handle_messages(message):\n",
    "    # Extraer id, grupo, texto, usuario y fecha\n",
    "    message_id = message.message_id\n",
    "    chat_id = message.chat.id \n",
    "    text = message.text\n",
    "    fecha_hora_actual = datetime.now(tz)\n",
    "    date = fecha_hora_actual.strftime('%Y-%m-%d %H:%M:%S')\n",
    "    user = message.from_user\n",
    "    username = user.username\n",
    "    # Verificar si el nombre de usuario está presente\n",
    "    if username:\n",
    "        user_info = username\n",
    "    else:\n",
    "        first_name = user.first_name\n",
    "        last_name = user.last_name if user.last_name else \"\"\n",
    "        user_info = f\"{first_name}{last_name}\" if (first_name or last_name) else \"Sin Nombre\"\n",
    "    user_info = user_info.strip()\n",
    "    # Clasificar mensaje\n",
    "    clasificacion = analize_text(text)\n",
    "    load_message_db(message_id, chat_id, text, user_info, date, clasificacion)"
   ]
  },
  {
   "cell_type": "code",
   "execution_count": null,
   "id": "9982a8e8",
   "metadata": {},
   "outputs": [],
   "source": [
    "# Inicia el bot\n",
    "bot.polling(none_stop=True)"
   ]
  }
 ],
 "metadata": {
  "kernelspec": {
   "display_name": "Python 3 (ipykernel)",
   "language": "python",
   "name": "python3"
  },
  "language_info": {
   "codemirror_mode": {
    "name": "ipython",
    "version": 3
   },
   "file_extension": ".py",
   "mimetype": "text/x-python",
   "name": "python",
   "nbconvert_exporter": "python",
   "pygments_lexer": "ipython3",
   "version": "3.11.5"
  }
 },
 "nbformat": 4,
 "nbformat_minor": 5
}
